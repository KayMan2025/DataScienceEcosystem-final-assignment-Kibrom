{
 "cells": [
  {
   "cell_type": "markdown",
   "id": "9d6917c4-cef6-43f2-be5c-f9df2fe4c7a3",
   "metadata": {},
   "source": [
    "# Data Science Tools and Ecosystem"
   ]
  },
  {
   "cell_type": "markdown",
   "id": "8b007e31-0a60-4767-9aec-df9038a605db",
   "metadata": {},
   "source": [
    "In this notebook, Data Science Tools and Ecosystem are summarized."
   ]
  },
  {
   "cell_type": "markdown",
   "id": "e4e6644e-4e53-4d48-9048-4f932a3bb160",
   "metadata": {},
   "source": [
    "**Objectives:**\n",
    "- List popular languages for Data Science,\n",
    "- List commonly used libraries by Data Scientists,\n",
    "- Examples of Data Science Tools, and\n",
    "- Examples of evaluating arithmetic expressions in Python."
   ]
  },
  {
   "cell_type": "markdown",
   "id": "3c43cc6b-73e8-40c7-8e05-469d197eec96",
   "metadata": {},
   "source": [
    "Some of the popular languages that Data Scientists use are:\n",
    "1. Python,\n",
    "2. R,\n",
    "3. SQL,\n",
    "4. Julia,\n",
    "5. Scala,\n",
    "6. MATLAB,\n",
    "7. Java, and\n",
    "8. SAS."
   ]
  },
  {
   "cell_type": "markdown",
   "id": "14f3100d-9d39-4b93-a8e8-e10cf79b77c4",
   "metadata": {},
   "source": [
    "Some of the commonly used libraries used by Data Scientists include:\n",
    "1. NumPy,\n",
    "2. Pandas,\n",
    "3. Matplotlib,\n",
    "4. Scikit-learn,\n",
    "5. TensorFlow,\n",
    "6. Keras,\n",
    "7. PyTorch,\n",
    "8. Seaborn,\n",
    "9. Plotly, and\n",
    "10. NLTK (Natural Language Toolkit)."
   ]
  },
  {
   "cell_type": "markdown",
   "id": "de05056b-96c0-48a2-abf3-cbae2a15a8dd",
   "metadata": {},
   "source": [
    "| Data Science Tools       |\n",
    "|--------------------------|\n",
    "| Jupyter Notebook         |\n",
    "| RStudio                  |\n",
    "| Spyder                   |\n"
   ]
  },
  {
   "cell_type": "markdown",
   "id": "7d898ab3-b50e-42f8-bb42-4a01dd5958d2",
   "metadata": {},
   "source": [
    "### Below are a few examples of evaluating arithmetic expressions in Python."
   ]
  },
  {
   "cell_type": "code",
   "execution_count": 7,
   "id": "478a1aa6-c826-4c4d-87a9-d69e463267cb",
   "metadata": {},
   "outputs": [
    {
     "data": {
      "text/plain": [
       "17"
      ]
     },
     "execution_count": 7,
     "metadata": {},
     "output_type": "execute_result"
    }
   ],
   "source": [
    "# This is a simple arithmetic expression to multiply then add integers.\n",
    "(3*4)+5"
   ]
  },
  {
   "cell_type": "code",
   "execution_count": 9,
   "id": "bd47080a-a2e1-480b-bc89-177e06b778d6",
   "metadata": {},
   "outputs": [
    {
     "data": {
      "text/plain": [
       "3.3333333333333335"
      ]
     },
     "execution_count": 9,
     "metadata": {},
     "output_type": "execute_result"
    }
   ],
   "source": [
    "# This will convert 200 minutes to hours by dividing by 60.\n",
    "minutes = 200\n",
    "hours = minutes / 60\n",
    "hours\n"
   ]
  },
  {
   "cell_type": "markdown",
   "id": "790adb99-de01-4c0e-9da4-dc117f705595",
   "metadata": {},
   "source": [
    "## Author\n",
    "Kibrom M. Alula"
   ]
  },
  {
   "cell_type": "code",
   "execution_count": null,
   "id": "6add5ed3-59d8-48e9-9a90-a96c56612bf8",
   "metadata": {},
   "outputs": [],
   "source": []
  }
 ],
 "metadata": {
  "kernelspec": {
   "display_name": "anaconda-panel-2023.05-py310",
   "language": "python",
   "name": "conda-env-anaconda-panel-2023.05-py310-py"
  },
  "language_info": {
   "codemirror_mode": {
    "name": "ipython",
    "version": 3
   },
   "file_extension": ".py",
   "mimetype": "text/x-python",
   "name": "python",
   "nbconvert_exporter": "python",
   "pygments_lexer": "ipython3",
   "version": "3.11.5"
  }
 },
 "nbformat": 4,
 "nbformat_minor": 5
}
